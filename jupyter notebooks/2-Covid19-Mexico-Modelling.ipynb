{
 "cells": [
  {
   "cell_type": "code",
   "execution_count": 1,
   "metadata": {
    "ExecuteTime": {
     "end_time": "2021-01-05T11:55:31.544970Z",
     "start_time": "2021-01-05T11:55:29.370852Z"
    }
   },
   "outputs": [],
   "source": [
    "##### Import packages\n",
    "# Basic packages\n",
    "import pandas as pd\n",
    "import numpy as np\n",
    "import matplotlib.pyplot as plt\n",
    "import seaborn as sns\n",
    "\n",
    "# Modelling packages\n",
    "from sklearn.impute import SimpleImputer\n",
    "from imblearn.under_sampling import RandomUnderSampler\n",
    "\n",
    "from sklearn.model_selection import train_test_split\n",
    "from sklearn.metrics import accuracy_score\n",
    "from sklearn.metrics import plot_confusion_matrix\n",
    "from sklearn.metrics import classification_report\n",
    "\n",
    "from sklearn.ensemble import RandomForestClassifier\n",
    "from sklearn.linear_model import LogisticRegression\n",
    "\n",
    "# Other packages\n",
    "from datetime import datetime\n",
    "from collections import Counter\n",
    "\n",
    "# To avoid warnings\n",
    "import warnings\n",
    "warnings.filterwarnings(\"ignore\")"
   ]
  },
  {
   "cell_type": "markdown",
   "metadata": {
    "heading_collapsed": true
   },
   "source": [
    "# The objective of creating a prediction model based on Machine Learning Algorithms is to __check the probability of dying if you are COVID-19 confirmed__"
   ]
  },
  {
   "cell_type": "code",
   "execution_count": 2,
   "metadata": {
    "ExecuteTime": {
     "end_time": "2021-01-05T11:55:49.232399Z",
     "start_time": "2021-01-05T11:55:31.547907Z"
    },
    "hidden": true
   },
   "outputs": [],
   "source": [
    "##### Import data\n",
    "# Check the csv's path before running it\n",
    "\n",
    "df_est = pd.read_csv(\"CoordEstados.csv\", encoding = \"ISO-8859-1\") # Mexican states data\n",
    "df_cov = pd.read_csv(\"14.11.20 - COVID19MEXICO.csv\", encoding = \"ISO-8859-1\") # Covid-19 data"
   ]
  },
  {
   "cell_type": "markdown",
   "metadata": {
    "heading_collapsed": true
   },
   "source": [
    "# Data Preparation"
   ]
  },
  {
   "cell_type": "code",
   "execution_count": 3,
   "metadata": {
    "ExecuteTime": {
     "end_time": "2021-01-05T11:56:33.710825Z",
     "start_time": "2021-01-05T11:55:49.266942Z"
    },
    "hidden": true
   },
   "outputs": [],
   "source": [
    "##### Create a new column with the time difference between been positive in COVID-19 and die\n",
    "# If the person didn't die, time difference is 0\n",
    "\n",
    "df_cov['FECHA_SINTOMAS'] = df_cov['FECHA_SINTOMAS'].apply(lambda x: datetime.strptime(x, '%Y-%m-%d'))\n",
    "df_cov['FECHA_DEF'] = df_cov['FECHA_DEF'].replace('9999-99-99', '2001-01-01')\n",
    "\n",
    "df_cov['FECHA_DEF'] = df_cov['FECHA_DEF'].apply(lambda x: datetime.strptime(x, '%Y-%m-%d'))\n",
    "df_cov['DIFERENCIA'] = df_cov['FECHA_DEF'].sub(df_cov['FECHA_SINTOMAS'], axis=0)\n",
    "\n",
    "df_cov['DIFERENCIA'] = df_cov['DIFERENCIA'] / np.timedelta64(1, 'D')\n",
    "df_cov.loc[df_cov['DIFERENCIA']<0,'DIFERENCIA'] = 0"
   ]
  },
  {
   "cell_type": "code",
   "execution_count": 4,
   "metadata": {
    "ExecuteTime": {
     "end_time": "2021-01-05T11:56:34.715511Z",
     "start_time": "2021-01-05T11:56:33.715229Z"
    },
    "hidden": true
   },
   "outputs": [],
   "source": [
    "##### Create a new column with boolean value: 0 if the person doesn't have any disease, ≠ 0 otherwise\n",
    "# Change the classification method from 1 yes 2 no to 1 yes 0 no. In this case, unknown values will be considered as no.\n",
    "\n",
    "ill_name = ['DIABETES','EPOC','ASMA','INMUSUPR','HIPERTENSION','OTRA_COM','CARDIOVASCULAR','OBESIDAD','RENAL_CRONICA']\n",
    "df_cov[ill_name] = df_cov[ill_name].replace([2,98],0)\n",
    "\n",
    "df_cov['n_ENFERMEDADES'] = df_cov[ill_name].sum(axis = 1)"
   ]
  },
  {
   "cell_type": "code",
   "execution_count": 5,
   "metadata": {
    "ExecuteTime": {
     "end_time": "2021-01-05T11:56:34.784447Z",
     "start_time": "2021-01-05T11:56:34.717784Z"
    },
    "hidden": true
   },
   "outputs": [],
   "source": [
    "##### Create a new column (target) with boolean value: 0 if the person doesn't die, 1 otherwise\n",
    "\n",
    "df_cov.loc[df_cov['DIFERENCIA']==0,'MORTALIDAD'] = 0\n",
    "df_cov.loc[df_cov['DIFERENCIA']!=0,'MORTALIDAD'] = 1"
   ]
  },
  {
   "cell_type": "code",
   "execution_count": 6,
   "metadata": {
    "ExecuteTime": {
     "end_time": "2021-01-05T11:56:41.475473Z",
     "start_time": "2021-01-05T11:56:34.786519Z"
    },
    "hidden": true
   },
   "outputs": [
    {
     "data": {
      "text/plain": [
       "FECHA_ACTUALIZACION     0.000000\n",
       "ID_REGISTRO             0.000000\n",
       "ORIGEN                  0.000000\n",
       "SECTOR                  0.000384\n",
       "ENTIDAD_UM              0.000000\n",
       "SEXO                    0.000000\n",
       "ENTIDAD_NAC             0.481791\n",
       "ENTIDAD_RES             0.000000\n",
       "MUNICIPIO_RES           0.725200\n",
       "TIPO_PACIENTE           0.000000\n",
       "FECHA_INGRESO           0.000000\n",
       "FECHA_SINTOMAS          0.000000\n",
       "FECHA_DEF               0.000000\n",
       "INTUBADO               85.005139\n",
       "NEUMONIA                0.702933\n",
       "EDAD                    0.028411\n",
       "NACIONALIDAD            0.000000\n",
       "EMBARAZO               48.965335\n",
       "HABLA_LENGUA_INDIG      3.813244\n",
       "INDIGENA                3.695570\n",
       "DIABETES                0.000000\n",
       "EPOC                    0.000000\n",
       "ASMA                    0.000000\n",
       "INMUSUPR                0.000000\n",
       "HIPERTENSION            0.000000\n",
       "OTRA_COM                0.000000\n",
       "CARDIOVASCULAR          0.000000\n",
       "OBESIDAD                0.000000\n",
       "RENAL_CRONICA           0.000000\n",
       "TABAQUISMO              0.319351\n",
       "OTRO_CASO              11.186992\n",
       "TOMA_MUESTRA            0.000000\n",
       "RESULTADO_LAB           8.309495\n",
       "CLASIFICACION_FINAL     0.000000\n",
       "MIGRANTE               99.592653\n",
       "PAIS_NACIONALIDAD       0.000000\n",
       "PAIS_ORIGEN             0.000000\n",
       "UCI                    85.026562\n",
       "DIFERENCIA              0.000384\n",
       "n_ENFERMEDADES          0.000000\n",
       "MORTALIDAD              0.000000\n",
       "dtype: float64"
      ]
     },
     "execution_count": 6,
     "metadata": {},
     "output_type": "execute_result"
    }
   ],
   "source": [
    "##### Replacing missing values with NaNs\n",
    "\n",
    "df_cov.replace([97,98,99],np.nan,inplace=True)\n",
    "df_cov.isnull().sum()/len(df_cov)*100"
   ]
  },
  {
   "cell_type": "code",
   "execution_count": 7,
   "metadata": {
    "ExecuteTime": {
     "end_time": "2021-01-05T11:56:42.074633Z",
     "start_time": "2021-01-05T11:56:41.481196Z"
    },
    "hidden": true
   },
   "outputs": [],
   "source": [
    "##### Deleting columns with NaNs > 0.8\n",
    "\n",
    "df_cov.drop(columns=['INTUBADO', 'MIGRANTE', 'UCI'], inplace = True)"
   ]
  },
  {
   "cell_type": "code",
   "execution_count": 8,
   "metadata": {
    "ExecuteTime": {
     "end_time": "2021-01-05T12:00:22.673293Z",
     "start_time": "2021-01-05T11:56:42.080079Z"
    },
    "hidden": true
   },
   "outputs": [
    {
     "data": {
      "text/plain": [
       "FECHA_ACTUALIZACION    0.0\n",
       "ID_REGISTRO            0.0\n",
       "ORIGEN                 0.0\n",
       "SECTOR                 0.0\n",
       "ENTIDAD_UM             0.0\n",
       "SEXO                   0.0\n",
       "ENTIDAD_NAC            0.0\n",
       "ENTIDAD_RES            0.0\n",
       "MUNICIPIO_RES          0.0\n",
       "TIPO_PACIENTE          0.0\n",
       "FECHA_INGRESO          0.0\n",
       "FECHA_SINTOMAS         0.0\n",
       "FECHA_DEF              0.0\n",
       "NEUMONIA               0.0\n",
       "EDAD                   0.0\n",
       "NACIONALIDAD           0.0\n",
       "EMBARAZO               0.0\n",
       "HABLA_LENGUA_INDIG     0.0\n",
       "INDIGENA               0.0\n",
       "DIABETES               0.0\n",
       "EPOC                   0.0\n",
       "ASMA                   0.0\n",
       "INMUSUPR               0.0\n",
       "HIPERTENSION           0.0\n",
       "OTRA_COM               0.0\n",
       "CARDIOVASCULAR         0.0\n",
       "OBESIDAD               0.0\n",
       "RENAL_CRONICA          0.0\n",
       "TABAQUISMO             0.0\n",
       "OTRO_CASO              0.0\n",
       "TOMA_MUESTRA           0.0\n",
       "RESULTADO_LAB          0.0\n",
       "CLASIFICACION_FINAL    0.0\n",
       "PAIS_NACIONALIDAD      0.0\n",
       "PAIS_ORIGEN            0.0\n",
       "DIFERENCIA             0.0\n",
       "n_ENFERMEDADES         0.0\n",
       "MORTALIDAD             0.0\n",
       "dtype: float64"
      ]
     },
     "execution_count": 8,
     "metadata": {},
     "output_type": "execute_result"
    }
   ],
   "source": [
    "##### Using SimpleImputer for missing values\n",
    "\n",
    "imputer = SimpleImputer(missing_values=np.nan, strategy='most_frequent')\n",
    "df_cov_imputer = imputer.fit_transform(df_cov)\n",
    "\n",
    "df_cov = pd.DataFrame(df_cov_imputer, columns = df_cov.columns)\n",
    "df_cov.isnull().sum()/len(df_cov)*100"
   ]
  },
  {
   "cell_type": "code",
   "execution_count": 9,
   "metadata": {
    "ExecuteTime": {
     "end_time": "2021-01-05T12:00:22.701054Z",
     "start_time": "2021-01-05T12:00:22.684993Z"
    },
    "hidden": true
   },
   "outputs": [],
   "source": [
    "##### Selecting all the columns to use to modelling (also the target)\n",
    "\n",
    "features = list(df_cov)\n",
    "remove = ['FECHA_ACTUALIZACION', 'ID_REGISTRO', 'FECHA_INGRESO','FECHA_SINTOMAS','FECHA_DEF','HABLA_LENGUA_INDIG','CLASIFICACION_FINAL',\n",
    "          'PAIS_NACIONALIDAD','RESULTADO_LAB','PAIS_ORIGEN','NACIONALIDAD','EMBARAZO','DIFERENCIA','MORTALIDAD']\n",
    "\n",
    "for col in remove:\n",
    "    features.remove(col)"
   ]
  },
  {
   "cell_type": "markdown",
   "metadata": {
    "heading_collapsed": true
   },
   "source": [
    "# Modelling"
   ]
  },
  {
   "cell_type": "code",
   "execution_count": 10,
   "metadata": {
    "ExecuteTime": {
     "end_time": "2021-01-05T12:00:27.418734Z",
     "start_time": "2021-01-05T12:00:22.707048Z"
    },
    "hidden": true
   },
   "outputs": [],
   "source": [
    "##### Creation of x and y\n",
    "\n",
    "X = df_cov[features].values.astype('int')\n",
    "y = df_cov['MORTALIDAD'].values.astype('int')"
   ]
  },
  {
   "cell_type": "code",
   "execution_count": 11,
   "metadata": {
    "ExecuteTime": {
     "end_time": "2021-01-05T12:00:30.488481Z",
     "start_time": "2021-01-05T12:00:27.421108Z"
    },
    "hidden": true
   },
   "outputs": [],
   "source": [
    "##### Creation of X and y split -- train and test\n",
    "\n",
    "X_train, X_test, y_train, y_test = train_test_split(X, y, test_size=0.4, stratify=y)"
   ]
  },
  {
   "cell_type": "markdown",
   "metadata": {
    "heading_collapsed": true,
    "hidden": true
   },
   "source": [
    "## Random Forest"
   ]
  },
  {
   "cell_type": "code",
   "execution_count": 12,
   "metadata": {
    "ExecuteTime": {
     "end_time": "2021-01-05T12:10:16.365261Z",
     "start_time": "2021-01-05T12:00:30.490726Z"
    },
    "hidden": true
   },
   "outputs": [
    {
     "name": "stdout",
     "output_type": "stream",
     "text": [
      "Accuracy score:  0.9496632957852464\n"
     ]
    }
   ],
   "source": [
    "##### Random Forest\n",
    "\n",
    "clf = RandomForestClassifier()\n",
    "clf.fit(X_train, y_train)\n",
    "\n",
    "yhat = clf.predict(X_test)\n",
    "print('Accuracy score: ',accuracy_score(y_test,yhat))"
   ]
  },
  {
   "cell_type": "code",
   "execution_count": 13,
   "metadata": {
    "ExecuteTime": {
     "end_time": "2021-01-05T12:10:17.833629Z",
     "start_time": "2021-01-05T12:10:16.370223Z"
    },
    "hidden": true
   },
   "outputs": [
    {
     "name": "stdout",
     "output_type": "stream",
     "text": [
      "              precision    recall  f1-score   support\n",
      "\n",
      "           0      0.966     0.982     0.974    986834\n",
      "           1      0.534     0.372     0.438     55030\n",
      "\n",
      "    accuracy                          0.950   1041864\n",
      "   macro avg      0.750     0.677     0.706   1041864\n",
      "weighted avg      0.943     0.950     0.945   1041864\n",
      "\n"
     ]
    }
   ],
   "source": [
    "##### Classification Report\n",
    "\n",
    "print(classification_report(y_test, yhat, digits=3))"
   ]
  },
  {
   "cell_type": "code",
   "execution_count": 14,
   "metadata": {
    "ExecuteTime": {
     "end_time": "2021-01-05T12:10:44.270666Z",
     "start_time": "2021-01-05T12:10:17.836911Z"
    },
    "hidden": true
   },
   "outputs": [
    {
     "data": {
      "image/png": "[encoded data removed]",
      "text/plain": [
       "<Figure size 432x288 with 2 Axes>"
      ]
     },
     "metadata": {
      "needs_background": "light"
     },
     "output_type": "display_data"
    }
   ],
   "source": [
    "##### Confussion Matrix\n",
    "\n",
    "plot_confusion_matrix(clf, X_test, y_test,\n",
    "                             display_labels=[0,1],\n",
    "                             cmap=plt.cm.Blues,\n",
    "                             normalize=\"true\")\n",
    "plt.title('Confussion matrix on how the \\n model can predict mortality')\n",
    "plt.show()"
   ]
  },
  {
   "cell_type": "code",
   "execution_count": 15,
   "metadata": {
    "ExecuteTime": {
     "end_time": "2021-01-05T12:10:44.848361Z",
     "start_time": "2021-01-05T12:10:44.274084Z"
    },
    "hidden": true
   },
   "outputs": [
    {
     "data": {
      "image/png": "[encoded data removed]",
      "text/plain": [
       "<Figure size 1152x720 with 1 Axes>"
      ]
     },
     "metadata": {
      "needs_background": "light"
     },
     "output_type": "display_data"
    }
   ],
   "source": [
    "##### Feature Importance\n",
    "\n",
    "features_importance = clf.feature_importances_\n",
    "features_array = np.array(features)\n",
    "features_array_ordered = features_array[(features_importance).argsort()[::-1]]\n",
    "features_array_ordered\n",
    "\n",
    "plt.figure(figsize=(16,10))\n",
    "sns.barplot(y = features_array, x = features_importance, orient='h', order=features_array_ordered[:50])\n",
    "\n",
    "plt.show()"
   ]
  },
  {
   "cell_type": "markdown",
   "metadata": {
    "heading_collapsed": true,
    "hidden": true
   },
   "source": [
    "## Logistic Regression"
   ]
  },
  {
   "cell_type": "code",
   "execution_count": 16,
   "metadata": {
    "ExecuteTime": {
     "end_time": "2021-01-05T12:11:10.757677Z",
     "start_time": "2021-01-05T12:10:44.850636Z"
    },
    "hidden": true
   },
   "outputs": [
    {
     "name": "stdout",
     "output_type": "stream",
     "text": [
      "Accuracy score:  0.9501662405073983\n"
     ]
    }
   ],
   "source": [
    "##### Logistic Regression\n",
    "\n",
    "clf = LogisticRegression(solver='liblinear')\n",
    "clf.fit(X_train, y_train)\n",
    "\n",
    "yhat = clf.predict(X_test)\n",
    "print('Accuracy score: ',accuracy_score(y_test,yhat))"
   ]
  },
  {
   "cell_type": "code",
   "execution_count": 17,
   "metadata": {
    "ExecuteTime": {
     "end_time": "2021-01-05T12:11:12.191762Z",
     "start_time": "2021-01-05T12:11:10.761323Z"
    },
    "hidden": true
   },
   "outputs": [
    {
     "name": "stdout",
     "output_type": "stream",
     "text": [
      "              precision    recall  f1-score   support\n",
      "\n",
      "           0      0.963     0.985     0.974    986834\n",
      "           1      0.548     0.321     0.405     55030\n",
      "\n",
      "    accuracy                          0.950   1041864\n",
      "   macro avg      0.756     0.653     0.690   1041864\n",
      "weighted avg      0.941     0.950     0.944   1041864\n",
      "\n"
     ]
    }
   ],
   "source": [
    "##### Classification Report\n",
    "\n",
    "print(classification_report(y_test, yhat, digits=3))"
   ]
  },
  {
   "cell_type": "code",
   "execution_count": 18,
   "metadata": {
    "ExecuteTime": {
     "end_time": "2021-01-05T12:11:13.401065Z",
     "start_time": "2021-01-05T12:11:12.195208Z"
    },
    "hidden": true
   },
   "outputs": [
    {
     "data": {
      "image/png": "[encoded data removed]",
      "text/plain": [
       "<Figure size 432x288 with 2 Axes>"
      ]
     },
     "metadata": {
      "needs_background": "light"
     },
     "output_type": "display_data"
    }
   ],
   "source": [
    "##### Confussion Matrix\n",
    "\n",
    "plot_confusion_matrix(clf, X_test, y_test,\n",
    "                             display_labels=[0,1],\n",
    "                             cmap=plt.cm.Blues,\n",
    "                             normalize=\"true\")\n",
    "plt.title('Confussion matrix on how the \\n model can predict mortality')\n",
    "plt.show()"
   ]
  },
  {
   "cell_type": "markdown",
   "metadata": {
    "heading_collapsed": true,
    "hidden": true
   },
   "source": [
    "## UnderSampling"
   ]
  },
  {
   "cell_type": "code",
   "execution_count": 19,
   "metadata": {
    "ExecuteTime": {
     "end_time": "2021-01-05T12:11:15.445018Z",
     "start_time": "2021-01-05T12:11:13.406835Z"
    },
    "hidden": true
   },
   "outputs": [
    {
     "data": {
      "text/plain": [
       "Counter({0: 171967, 1: 137574})"
      ]
     },
     "execution_count": 19,
     "metadata": {},
     "output_type": "execute_result"
    }
   ],
   "source": [
    "##### Undersampling to create sintetic data to improve class balance.\n",
    "# Increase minority class size until its size represent 80% of major class size\n",
    "\n",
    "undersampling = RandomUnderSampler(sampling_strategy=0.8) \n",
    "X_balance, y_balance = undersampling.fit_resample(X, y)\n",
    "Counter(y_balance)"
   ]
  },
  {
   "cell_type": "code",
   "execution_count": 20,
   "metadata": {
    "ExecuteTime": {
     "end_time": "2021-01-05T12:11:15.587587Z",
     "start_time": "2021-01-05T12:11:15.448309Z"
    },
    "hidden": true
   },
   "outputs": [],
   "source": [
    "##### Creation of X and y split -- train and test applying undersampling\n",
    "\n",
    "X_train, X_test, y_train, y_test = train_test_split(X_balance, y_balance, test_size=0.4)"
   ]
  },
  {
   "cell_type": "markdown",
   "metadata": {
    "heading_collapsed": true,
    "hidden": true
   },
   "source": [
    "## Random Forest with UnderSampling"
   ]
  },
  {
   "cell_type": "code",
   "execution_count": 21,
   "metadata": {
    "ExecuteTime": {
     "end_time": "2021-01-05T12:11:44.025739Z",
     "start_time": "2021-01-05T12:11:15.590311Z"
    },
    "hidden": true
   },
   "outputs": [
    {
     "name": "stdout",
     "output_type": "stream",
     "text": [
      "Accuracy score:  0.9144059377952947\n"
     ]
    }
   ],
   "source": [
    "##### Random Forest with UnderSampling\n",
    "\n",
    "clf = RandomForestClassifier()\n",
    "clf.fit(X_train, y_train)\n",
    "\n",
    "yhat = clf.predict(X_test)\n",
    "print('Accuracy score: ',accuracy_score(y_test,yhat))"
   ]
  },
  {
   "cell_type": "code",
   "execution_count": 22,
   "metadata": {
    "ExecuteTime": {
     "end_time": "2021-01-05T12:11:44.265543Z",
     "start_time": "2021-01-05T12:11:44.029491Z"
    },
    "hidden": true
   },
   "outputs": [
    {
     "name": "stdout",
     "output_type": "stream",
     "text": [
      "              precision    recall  f1-score   support\n",
      "\n",
      "           0      0.949     0.895     0.921     69075\n",
      "           1      0.876     0.939     0.907     54742\n",
      "\n",
      "    accuracy                          0.914    123817\n",
      "   macro avg      0.913     0.917     0.914    123817\n",
      "weighted avg      0.917     0.914     0.915    123817\n",
      "\n"
     ]
    }
   ],
   "source": [
    "##### Classification Report\n",
    "\n",
    "print(classification_report(y_test, yhat, digits=3))"
   ]
  },
  {
   "cell_type": "code",
   "execution_count": 23,
   "metadata": {
    "ExecuteTime": {
     "end_time": "2021-01-05T12:11:47.620004Z",
     "start_time": "2021-01-05T12:11:44.274736Z"
    },
    "hidden": true
   },
   "outputs": [
    {
     "data": {
      "image/png": "[encoded data removed]",
      "text/plain": [
       "<Figure size 432x288 with 2 Axes>"
      ]
     },
     "metadata": {
      "needs_background": "light"
     },
     "output_type": "display_data"
    }
   ],
   "source": [
    "##### Confussion Matrix\n",
    "\n",
    "plot_confusion_matrix(clf, X_test, y_test,\n",
    "                             display_labels=[0,1],\n",
    "                             cmap=plt.cm.Blues,\n",
    "                             normalize=\"true\")\n",
    "plt.title('Confussion matrix on how the \\n model can predict mortality')\n",
    "plt.show()"
   ]
  },
  {
   "cell_type": "code",
   "execution_count": 24,
   "metadata": {
    "ExecuteTime": {
     "end_time": "2021-01-05T12:11:48.022041Z",
     "start_time": "2021-01-05T12:11:47.625931Z"
    },
    "hidden": true
   },
   "outputs": [
    {
     "data": {
      "image/png": "[encoded data removed]",
      "text/plain": [
       "<Figure size 1152x720 with 1 Axes>"
      ]
     },
     "metadata": {
      "needs_background": "light"
     },
     "output_type": "display_data"
    }
   ],
   "source": [
    "##### Feature Importance\n",
    "\n",
    "features_importance = clf.feature_importances_\n",
    "features_array = np.array(features)\n",
    "features_array_ordered = features_array[(features_importance).argsort()[::-1]]\n",
    "features_array_ordered\n",
    "\n",
    "plt.figure(figsize=(16,10))\n",
    "sns.barplot(y = features_array, x = features_importance, orient='h', order=features_array_ordered[:50])\n",
    "\n",
    "plt.show()"
   ]
  },
  {
   "cell_type": "markdown",
   "metadata": {
    "heading_collapsed": true,
    "hidden": true
   },
   "source": [
    "## Logistic Regression with UnderSampling"
   ]
  },
  {
   "cell_type": "code",
   "execution_count": 25,
   "metadata": {
    "ExecuteTime": {
     "end_time": "2021-01-05T12:11:51.218845Z",
     "start_time": "2021-01-05T12:11:48.024455Z"
    },
    "hidden": true
   },
   "outputs": [
    {
     "name": "stdout",
     "output_type": "stream",
     "text": [
      "Accuracy score:  0.9076621142492549\n"
     ]
    }
   ],
   "source": [
    "##### Logistic Regression with UnderSampling\n",
    "\n",
    "clf = LogisticRegression(solver='liblinear')\n",
    "clf.fit(X_train, y_train)\n",
    "\n",
    "yhat = clf.predict(X_test)\n",
    "print('Accuracy score: ',accuracy_score(y_test,yhat))"
   ]
  },
  {
   "cell_type": "code",
   "execution_count": 26,
   "metadata": {
    "ExecuteTime": {
     "end_time": "2021-01-05T12:11:51.462239Z",
     "start_time": "2021-01-05T12:11:51.224229Z"
    },
    "hidden": true
   },
   "outputs": [
    {
     "name": "stdout",
     "output_type": "stream",
     "text": [
      "              precision    recall  f1-score   support\n",
      "\n",
      "           0      0.926     0.907     0.916     69075\n",
      "           1      0.885     0.909     0.897     54742\n",
      "\n",
      "    accuracy                          0.908    123817\n",
      "   macro avg      0.906     0.908     0.907    123817\n",
      "weighted avg      0.908     0.908     0.908    123817\n",
      "\n"
     ]
    }
   ],
   "source": [
    "##### Classification Report\n",
    "\n",
    "print(classification_report(y_test, yhat, digits=3))"
   ]
  },
  {
   "cell_type": "code",
   "execution_count": 27,
   "metadata": {
    "ExecuteTime": {
     "end_time": "2021-01-05T12:11:51.842934Z",
     "start_time": "2021-01-05T12:11:51.466588Z"
    },
    "hidden": true
   },
   "outputs": [
    {
     "data": {
      "image/png": "[encoded data removed]",
      "text/plain": [
       "<Figure size 432x288 with 2 Axes>"
      ]
     },
     "metadata": {
      "needs_background": "light"
     },
     "output_type": "display_data"
    }
   ],
   "source": [
    "##### Confussion Matrix\n",
    "\n",
    "plot_confusion_matrix(clf, X_test, y_test,\n",
    "                             display_labels=[0,1],\n",
    "                             cmap=plt.cm.Blues,\n",
    "                             normalize=\"true\")\n",
    "plt.title('Confussion matrix on how the \\n model can predict mortality')\n",
    "plt.show()"
   ]
  }
 ],
 "metadata": {
  "kernelspec": {
   "display_name": "Python 3",
   "language": "python",
   "name": "python3"
  },
  "language_info": {
   "codemirror_mode": {
    "name": "ipython",
    "version": 3
   },
   "file_extension": ".py",
   "mimetype": "text/x-python",
   "name": "python",
   "nbconvert_exporter": "python",
   "pygments_lexer": "ipython3",
   "version": "3.8.5"
  }
 },
 "nbformat": 4,
 "nbformat_minor": 4
}
